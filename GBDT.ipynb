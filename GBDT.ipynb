{
 "cells": [
  {
   "cell_type": "code",
   "execution_count": 1,
   "metadata": {},
   "outputs": [],
   "source": [
    "import pandas as pd\n",
    "from sklearn.tree import DecisionTreeRegressor, plot_tree\n",
    "import matplotlib as plt"
   ]
  },
  {
   "cell_type": "code",
   "execution_count": 2,
   "metadata": {},
   "outputs": [],
   "source": [
    "df = pd.read_csv('gbdt.csv')\n",
    "\n",
    "del df['ID']\n",
    "del df['Unnamed: 5']\n",
    "del df['Unnamed: 6']"
   ]
  },
  {
   "cell_type": "code",
   "execution_count": 4,
   "metadata": {},
   "outputs": [],
   "source": [
    "feature_index = ['Gardening', 'VideoGames', 'Hats']"
   ]
  },
  {
   "cell_type": "code",
   "execution_count": 5,
   "metadata": {},
   "outputs": [],
   "source": [
    "feature_df = df[feature_index]"
   ]
  },
  {
   "cell_type": "code",
   "execution_count": 6,
   "metadata": {},
   "outputs": [],
   "source": [
    "y = df.Age\n",
    "x = feature_df"
   ]
  },
  {
   "cell_type": "code",
   "execution_count": 7,
   "metadata": {},
   "outputs": [
    {
     "data": {
      "text/plain": [
       "DecisionTreeRegressor(criterion='mse', max_depth=1, max_features=None,\n",
       "                      max_leaf_nodes=None, min_impurity_decrease=0.0,\n",
       "                      min_impurity_split=None, min_samples_leaf=1,\n",
       "                      min_samples_split=2, min_weight_fraction_leaf=0.0,\n",
       "                      presort=False, random_state=None, splitter='best')"
      ]
     },
     "execution_count": 7,
     "metadata": {},
     "output_type": "execute_result"
    }
   ],
   "source": [
    "model_depth1 = DecisionTreeRegressor(max_depth=1)\n",
    "model_depth1.fit(x,y)"
   ]
  },
  {
   "cell_type": "code",
   "execution_count": 9,
   "metadata": {},
   "outputs": [
    {
     "name": "stdout",
     "output_type": "stream",
     "text": [
      "Using matplotlib backend: MacOSX\n"
     ]
    },
    {
     "data": {
      "text/plain": [
       "[Text(248.0, 277.2, 'Gardening <= 0.5\\nmse = 577.111\\nsamples = 9\\nvalue = 40.333'),\n",
       " Text(124.0, 92.39999999999998, 'mse = 83.188\\nsamples = 4\\nvalue = 19.25'),\n",
       " Text(372.0, 92.39999999999998, 'mse = 332.16\\nsamples = 5\\nvalue = 57.2')]"
      ]
     },
     "execution_count": 9,
     "metadata": {},
     "output_type": "execute_result"
    }
   ],
   "source": [
    "%matplotlib\n",
    "plot_tree(model_depth1, feature_names=feature_index)"
   ]
  },
  {
   "cell_type": "code",
   "execution_count": 10,
   "metadata": {},
   "outputs": [
    {
     "data": {
      "text/plain": [
       "[Text(248.0, 308.0, 'Gardening <= 0.5\\nmse = 577.111\\nsamples = 9\\nvalue = 40.333'),\n",
       " Text(124.0, 184.79999999999998, 'Hats <= 0.5\\nmse = 83.188\\nsamples = 4\\nvalue = 19.25'),\n",
       " Text(62.0, 61.599999999999966, 'mse = 0.25\\nsamples = 2\\nvalue = 14.5'),\n",
       " Text(186.0, 61.599999999999966, 'mse = 121.0\\nsamples = 2\\nvalue = 24.0'),\n",
       " Text(372.0, 184.79999999999998, 'VideoGames <= 0.5\\nmse = 332.16\\nsamples = 5\\nvalue = 57.2'),\n",
       " Text(310.0, 61.599999999999966, 'mse = 118.222\\nsamples = 3\\nvalue = 64.333'),\n",
       " Text(434.0, 61.599999999999966, 'mse = 462.25\\nsamples = 2\\nvalue = 46.5')]"
      ]
     },
     "execution_count": 10,
     "metadata": {},
     "output_type": "execute_result"
    }
   ],
   "source": [
    "model_depth2 = DecisionTreeRegressor(max_depth=2)\n",
    "model_depth2.fit(x,y)\n",
    "plot_tree(model_depth2, feature_names=feature_index)"
   ]
  },
  {
   "cell_type": "code",
   "execution_count": 11,
   "metadata": {},
   "outputs": [],
   "source": [
    "df['pred.'] = model_depth1.predict(x)"
   ]
  },
  {
   "cell_type": "code",
   "execution_count": 14,
   "metadata": {},
   "outputs": [],
   "source": [
    "df['diff.'] = df['pred.']-df['Age']"
   ]
  },
  {
   "cell_type": "code",
   "execution_count": 15,
   "metadata": {},
   "outputs": [
    {
     "data": {
      "text/html": [
       "<div>\n",
       "<style scoped>\n",
       "    .dataframe tbody tr th:only-of-type {\n",
       "        vertical-align: middle;\n",
       "    }\n",
       "\n",
       "    .dataframe tbody tr th {\n",
       "        vertical-align: top;\n",
       "    }\n",
       "\n",
       "    .dataframe thead th {\n",
       "        text-align: right;\n",
       "    }\n",
       "</style>\n",
       "<table border=\"1\" class=\"dataframe\">\n",
       "  <thead>\n",
       "    <tr style=\"text-align: right;\">\n",
       "      <th></th>\n",
       "      <th>Age</th>\n",
       "      <th>Gardening</th>\n",
       "      <th>VideoGames</th>\n",
       "      <th>Hats</th>\n",
       "      <th>pred.</th>\n",
       "      <th>diff.</th>\n",
       "    </tr>\n",
       "  </thead>\n",
       "  <tbody>\n",
       "    <tr>\n",
       "      <td>0</td>\n",
       "      <td>13</td>\n",
       "      <td>0</td>\n",
       "      <td>1</td>\n",
       "      <td>1</td>\n",
       "      <td>19.25</td>\n",
       "      <td>6.25</td>\n",
       "    </tr>\n",
       "    <tr>\n",
       "      <td>1</td>\n",
       "      <td>14</td>\n",
       "      <td>0</td>\n",
       "      <td>1</td>\n",
       "      <td>0</td>\n",
       "      <td>19.25</td>\n",
       "      <td>5.25</td>\n",
       "    </tr>\n",
       "    <tr>\n",
       "      <td>2</td>\n",
       "      <td>15</td>\n",
       "      <td>0</td>\n",
       "      <td>1</td>\n",
       "      <td>0</td>\n",
       "      <td>19.25</td>\n",
       "      <td>4.25</td>\n",
       "    </tr>\n",
       "    <tr>\n",
       "      <td>3</td>\n",
       "      <td>25</td>\n",
       "      <td>1</td>\n",
       "      <td>1</td>\n",
       "      <td>1</td>\n",
       "      <td>57.20</td>\n",
       "      <td>32.20</td>\n",
       "    </tr>\n",
       "    <tr>\n",
       "      <td>4</td>\n",
       "      <td>35</td>\n",
       "      <td>0</td>\n",
       "      <td>1</td>\n",
       "      <td>1</td>\n",
       "      <td>19.25</td>\n",
       "      <td>-15.75</td>\n",
       "    </tr>\n",
       "    <tr>\n",
       "      <td>5</td>\n",
       "      <td>49</td>\n",
       "      <td>1</td>\n",
       "      <td>0</td>\n",
       "      <td>0</td>\n",
       "      <td>57.20</td>\n",
       "      <td>8.20</td>\n",
       "    </tr>\n",
       "    <tr>\n",
       "      <td>6</td>\n",
       "      <td>68</td>\n",
       "      <td>1</td>\n",
       "      <td>1</td>\n",
       "      <td>1</td>\n",
       "      <td>57.20</td>\n",
       "      <td>-10.80</td>\n",
       "    </tr>\n",
       "    <tr>\n",
       "      <td>7</td>\n",
       "      <td>71</td>\n",
       "      <td>1</td>\n",
       "      <td>0</td>\n",
       "      <td>0</td>\n",
       "      <td>57.20</td>\n",
       "      <td>-13.80</td>\n",
       "    </tr>\n",
       "    <tr>\n",
       "      <td>8</td>\n",
       "      <td>73</td>\n",
       "      <td>1</td>\n",
       "      <td>0</td>\n",
       "      <td>1</td>\n",
       "      <td>57.20</td>\n",
       "      <td>-15.80</td>\n",
       "    </tr>\n",
       "  </tbody>\n",
       "</table>\n",
       "</div>"
      ],
      "text/plain": [
       "   Age  Gardening  VideoGames  Hats  pred.  diff.\n",
       "0   13          0           1     1  19.25   6.25\n",
       "1   14          0           1     0  19.25   5.25\n",
       "2   15          0           1     0  19.25   4.25\n",
       "3   25          1           1     1  57.20  32.20\n",
       "4   35          0           1     1  19.25 -15.75\n",
       "5   49          1           0     0  57.20   8.20\n",
       "6   68          1           1     1  57.20 -10.80\n",
       "7   71          1           0     0  57.20 -13.80\n",
       "8   73          1           0     1  57.20 -15.80"
      ]
     },
     "execution_count": 15,
     "metadata": {},
     "output_type": "execute_result"
    }
   ],
   "source": [
    "df"
   ]
  },
  {
   "cell_type": "code",
   "execution_count": 16,
   "metadata": {},
   "outputs": [
    {
     "data": {
      "text/plain": [
       "[Text(248.0, 277.2, 'VideoGames <= 0.5\\nmse = 221.506\\nsamples = 9\\nvalue = 0.0'),\n",
       " Text(124.0, 92.39999999999998, 'mse = 118.222\\nsamples = 3\\nvalue = -7.133'),\n",
       " Text(372.0, 92.39999999999998, 'mse = 234.984\\nsamples = 6\\nvalue = 3.567')]"
      ]
     },
     "execution_count": 16,
     "metadata": {},
     "output_type": "execute_result"
    }
   ],
   "source": [
    "diff = df['diff.']\n",
    "model_diff = DecisionTreeRegressor(max_depth=1)\n",
    "model_diff.fit(x, diff)\n",
    "plot_tree(model_diff, feature_names=feature_index)"
   ]
  },
  {
   "cell_type": "code",
   "execution_count": 17,
   "metadata": {},
   "outputs": [],
   "source": [
    "df['pred. diff.'] = model_diff.predict(x)"
   ]
  },
  {
   "cell_type": "code",
   "execution_count": 18,
   "metadata": {},
   "outputs": [
    {
     "data": {
      "text/html": [
       "<div>\n",
       "<style scoped>\n",
       "    .dataframe tbody tr th:only-of-type {\n",
       "        vertical-align: middle;\n",
       "    }\n",
       "\n",
       "    .dataframe tbody tr th {\n",
       "        vertical-align: top;\n",
       "    }\n",
       "\n",
       "    .dataframe thead th {\n",
       "        text-align: right;\n",
       "    }\n",
       "</style>\n",
       "<table border=\"1\" class=\"dataframe\">\n",
       "  <thead>\n",
       "    <tr style=\"text-align: right;\">\n",
       "      <th></th>\n",
       "      <th>Age</th>\n",
       "      <th>Gardening</th>\n",
       "      <th>VideoGames</th>\n",
       "      <th>Hats</th>\n",
       "      <th>pred.</th>\n",
       "      <th>diff.</th>\n",
       "      <th>pred. diff.</th>\n",
       "    </tr>\n",
       "  </thead>\n",
       "  <tbody>\n",
       "    <tr>\n",
       "      <td>0</td>\n",
       "      <td>13</td>\n",
       "      <td>0</td>\n",
       "      <td>1</td>\n",
       "      <td>1</td>\n",
       "      <td>19.25</td>\n",
       "      <td>6.25</td>\n",
       "      <td>3.566667</td>\n",
       "    </tr>\n",
       "    <tr>\n",
       "      <td>1</td>\n",
       "      <td>14</td>\n",
       "      <td>0</td>\n",
       "      <td>1</td>\n",
       "      <td>0</td>\n",
       "      <td>19.25</td>\n",
       "      <td>5.25</td>\n",
       "      <td>3.566667</td>\n",
       "    </tr>\n",
       "    <tr>\n",
       "      <td>2</td>\n",
       "      <td>15</td>\n",
       "      <td>0</td>\n",
       "      <td>1</td>\n",
       "      <td>0</td>\n",
       "      <td>19.25</td>\n",
       "      <td>4.25</td>\n",
       "      <td>3.566667</td>\n",
       "    </tr>\n",
       "    <tr>\n",
       "      <td>3</td>\n",
       "      <td>25</td>\n",
       "      <td>1</td>\n",
       "      <td>1</td>\n",
       "      <td>1</td>\n",
       "      <td>57.20</td>\n",
       "      <td>32.20</td>\n",
       "      <td>3.566667</td>\n",
       "    </tr>\n",
       "    <tr>\n",
       "      <td>4</td>\n",
       "      <td>35</td>\n",
       "      <td>0</td>\n",
       "      <td>1</td>\n",
       "      <td>1</td>\n",
       "      <td>19.25</td>\n",
       "      <td>-15.75</td>\n",
       "      <td>3.566667</td>\n",
       "    </tr>\n",
       "    <tr>\n",
       "      <td>5</td>\n",
       "      <td>49</td>\n",
       "      <td>1</td>\n",
       "      <td>0</td>\n",
       "      <td>0</td>\n",
       "      <td>57.20</td>\n",
       "      <td>8.20</td>\n",
       "      <td>-7.133333</td>\n",
       "    </tr>\n",
       "    <tr>\n",
       "      <td>6</td>\n",
       "      <td>68</td>\n",
       "      <td>1</td>\n",
       "      <td>1</td>\n",
       "      <td>1</td>\n",
       "      <td>57.20</td>\n",
       "      <td>-10.80</td>\n",
       "      <td>3.566667</td>\n",
       "    </tr>\n",
       "    <tr>\n",
       "      <td>7</td>\n",
       "      <td>71</td>\n",
       "      <td>1</td>\n",
       "      <td>0</td>\n",
       "      <td>0</td>\n",
       "      <td>57.20</td>\n",
       "      <td>-13.80</td>\n",
       "      <td>-7.133333</td>\n",
       "    </tr>\n",
       "    <tr>\n",
       "      <td>8</td>\n",
       "      <td>73</td>\n",
       "      <td>1</td>\n",
       "      <td>0</td>\n",
       "      <td>1</td>\n",
       "      <td>57.20</td>\n",
       "      <td>-15.80</td>\n",
       "      <td>-7.133333</td>\n",
       "    </tr>\n",
       "  </tbody>\n",
       "</table>\n",
       "</div>"
      ],
      "text/plain": [
       "   Age  Gardening  VideoGames  Hats  pred.  diff.  pred. diff.\n",
       "0   13          0           1     1  19.25   6.25     3.566667\n",
       "1   14          0           1     0  19.25   5.25     3.566667\n",
       "2   15          0           1     0  19.25   4.25     3.566667\n",
       "3   25          1           1     1  57.20  32.20     3.566667\n",
       "4   35          0           1     1  19.25 -15.75     3.566667\n",
       "5   49          1           0     0  57.20   8.20    -7.133333\n",
       "6   68          1           1     1  57.20 -10.80     3.566667\n",
       "7   71          1           0     0  57.20 -13.80    -7.133333\n",
       "8   73          1           0     1  57.20 -15.80    -7.133333"
      ]
     },
     "execution_count": 18,
     "metadata": {},
     "output_type": "execute_result"
    }
   ],
   "source": [
    "df"
   ]
  },
  {
   "cell_type": "code",
   "execution_count": 19,
   "metadata": {},
   "outputs": [],
   "source": [
    "df['GBDT pred.'] = df['pred.'] - df['pred. diff.']"
   ]
  },
  {
   "cell_type": "code",
   "execution_count": 20,
   "metadata": {},
   "outputs": [
    {
     "data": {
      "text/html": [
       "<div>\n",
       "<style scoped>\n",
       "    .dataframe tbody tr th:only-of-type {\n",
       "        vertical-align: middle;\n",
       "    }\n",
       "\n",
       "    .dataframe tbody tr th {\n",
       "        vertical-align: top;\n",
       "    }\n",
       "\n",
       "    .dataframe thead th {\n",
       "        text-align: right;\n",
       "    }\n",
       "</style>\n",
       "<table border=\"1\" class=\"dataframe\">\n",
       "  <thead>\n",
       "    <tr style=\"text-align: right;\">\n",
       "      <th></th>\n",
       "      <th>Age</th>\n",
       "      <th>Gardening</th>\n",
       "      <th>VideoGames</th>\n",
       "      <th>Hats</th>\n",
       "      <th>pred.</th>\n",
       "      <th>diff.</th>\n",
       "      <th>pred. diff.</th>\n",
       "      <th>GBDT pred.</th>\n",
       "    </tr>\n",
       "  </thead>\n",
       "  <tbody>\n",
       "    <tr>\n",
       "      <td>0</td>\n",
       "      <td>13</td>\n",
       "      <td>0</td>\n",
       "      <td>1</td>\n",
       "      <td>1</td>\n",
       "      <td>19.25</td>\n",
       "      <td>6.25</td>\n",
       "      <td>3.566667</td>\n",
       "      <td>15.683333</td>\n",
       "    </tr>\n",
       "    <tr>\n",
       "      <td>1</td>\n",
       "      <td>14</td>\n",
       "      <td>0</td>\n",
       "      <td>1</td>\n",
       "      <td>0</td>\n",
       "      <td>19.25</td>\n",
       "      <td>5.25</td>\n",
       "      <td>3.566667</td>\n",
       "      <td>15.683333</td>\n",
       "    </tr>\n",
       "    <tr>\n",
       "      <td>2</td>\n",
       "      <td>15</td>\n",
       "      <td>0</td>\n",
       "      <td>1</td>\n",
       "      <td>0</td>\n",
       "      <td>19.25</td>\n",
       "      <td>4.25</td>\n",
       "      <td>3.566667</td>\n",
       "      <td>15.683333</td>\n",
       "    </tr>\n",
       "    <tr>\n",
       "      <td>3</td>\n",
       "      <td>25</td>\n",
       "      <td>1</td>\n",
       "      <td>1</td>\n",
       "      <td>1</td>\n",
       "      <td>57.20</td>\n",
       "      <td>32.20</td>\n",
       "      <td>3.566667</td>\n",
       "      <td>53.633333</td>\n",
       "    </tr>\n",
       "    <tr>\n",
       "      <td>4</td>\n",
       "      <td>35</td>\n",
       "      <td>0</td>\n",
       "      <td>1</td>\n",
       "      <td>1</td>\n",
       "      <td>19.25</td>\n",
       "      <td>-15.75</td>\n",
       "      <td>3.566667</td>\n",
       "      <td>15.683333</td>\n",
       "    </tr>\n",
       "    <tr>\n",
       "      <td>5</td>\n",
       "      <td>49</td>\n",
       "      <td>1</td>\n",
       "      <td>0</td>\n",
       "      <td>0</td>\n",
       "      <td>57.20</td>\n",
       "      <td>8.20</td>\n",
       "      <td>-7.133333</td>\n",
       "      <td>64.333333</td>\n",
       "    </tr>\n",
       "    <tr>\n",
       "      <td>6</td>\n",
       "      <td>68</td>\n",
       "      <td>1</td>\n",
       "      <td>1</td>\n",
       "      <td>1</td>\n",
       "      <td>57.20</td>\n",
       "      <td>-10.80</td>\n",
       "      <td>3.566667</td>\n",
       "      <td>53.633333</td>\n",
       "    </tr>\n",
       "    <tr>\n",
       "      <td>7</td>\n",
       "      <td>71</td>\n",
       "      <td>1</td>\n",
       "      <td>0</td>\n",
       "      <td>0</td>\n",
       "      <td>57.20</td>\n",
       "      <td>-13.80</td>\n",
       "      <td>-7.133333</td>\n",
       "      <td>64.333333</td>\n",
       "    </tr>\n",
       "    <tr>\n",
       "      <td>8</td>\n",
       "      <td>73</td>\n",
       "      <td>1</td>\n",
       "      <td>0</td>\n",
       "      <td>1</td>\n",
       "      <td>57.20</td>\n",
       "      <td>-15.80</td>\n",
       "      <td>-7.133333</td>\n",
       "      <td>64.333333</td>\n",
       "    </tr>\n",
       "  </tbody>\n",
       "</table>\n",
       "</div>"
      ],
      "text/plain": [
       "   Age  Gardening  VideoGames  Hats  pred.  diff.  pred. diff.  GBDT pred.\n",
       "0   13          0           1     1  19.25   6.25     3.566667   15.683333\n",
       "1   14          0           1     0  19.25   5.25     3.566667   15.683333\n",
       "2   15          0           1     0  19.25   4.25     3.566667   15.683333\n",
       "3   25          1           1     1  57.20  32.20     3.566667   53.633333\n",
       "4   35          0           1     1  19.25 -15.75     3.566667   15.683333\n",
       "5   49          1           0     0  57.20   8.20    -7.133333   64.333333\n",
       "6   68          1           1     1  57.20 -10.80     3.566667   53.633333\n",
       "7   71          1           0     0  57.20 -13.80    -7.133333   64.333333\n",
       "8   73          1           0     1  57.20 -15.80    -7.133333   64.333333"
      ]
     },
     "execution_count": 20,
     "metadata": {},
     "output_type": "execute_result"
    }
   ],
   "source": [
    "df"
   ]
  },
  {
   "cell_type": "code",
   "execution_count": null,
   "metadata": {},
   "outputs": [],
   "source": []
  }
 ],
 "metadata": {
  "kernelspec": {
   "display_name": "Python 3",
   "language": "python",
   "name": "python3"
  },
  "language_info": {
   "codemirror_mode": {
    "name": "ipython",
    "version": 3
   },
   "file_extension": ".py",
   "mimetype": "text/x-python",
   "name": "python",
   "nbconvert_exporter": "python",
   "pygments_lexer": "ipython3",
   "version": "3.7.3"
  }
 },
 "nbformat": 4,
 "nbformat_minor": 2
}
