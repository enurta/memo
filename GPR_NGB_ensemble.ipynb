{
  "nbformat": 4,
  "nbformat_minor": 0,
  "metadata": {
    "colab": {
      "name": "GPR_NGB_ensemble.ipynb",
      "provenance": [],
      "mount_file_id": "14m-TB_enUbg12cI6mP2TVhdEukk31qvh",
      "authorship_tag": "ABX9TyM3nKBqz1gp+vYajDSegMg2",
      "include_colab_link": true
    },
    "kernelspec": {
      "name": "python3",
      "display_name": "Python 3"
    }
  },
  "cells": [
    {
      "cell_type": "markdown",
      "metadata": {
        "id": "view-in-github",
        "colab_type": "text"
      },
      "source": [
        "<a href=\"https://colab.research.google.com/github/enurta/memo/blob/master/GPR_NGB_ensemble.ipynb\" target=\"_parent\"><img src=\"https://colab.research.google.com/assets/colab-badge.svg\" alt=\"Open In Colab\"/></a>"
      ]
    },
    {
      "cell_type": "code",
      "metadata": {
        "id": "rgpP93kSl8sZ",
        "colab_type": "code",
        "colab": {}
      },
      "source": [
        "!pip install optuna\n",
        "!pip install --upgrade git+https://github.com/stanfordmlgroup/ngboost.git\n",
        "!pip install git+https://github.com/samoturk/mol2vec\n",
        "!curl -Lo rdkit_installer.py https://git.io/fxiPZ\n",
        "import rdkit_installer\n",
        "%time rdkit_installer.install()\n",
        "!pip install optuna"
      ],
      "execution_count": null,
      "outputs": []
    },
    {
      "cell_type": "code",
      "metadata": {
        "id": "2TjyyVwqmNRA",
        "colab_type": "code",
        "colab": {}
      },
      "source": [
        "from scipy.stats import norm\n",
        "import optuna\n",
        "import matplotlib.figure as figure\n",
        "import matplotlib.pyplot as plt\n",
        "import numpy as np\n",
        "import pandas as pd\n",
        "from sklearn.gaussian_process import GaussianProcessRegressor\n",
        "from sklearn.gaussian_process.kernels import WhiteKernel, RBF, ConstantKernel, Matern, DotProduct\n",
        "from sklearn.model_selection import train_test_split, cross_val_score, GridSearchCV\n",
        "from sklearn.pipeline import Pipeline\n",
        "from sklearn.preprocessing import StandardScaler\n",
        "from sklearn.tree import DecisionTreeRegressor\n",
        "from sklearn.datasets import fetch_california_housing\n",
        "from ngboost import NGBRegressor\n",
        "from ngboost.scores import MLE, CRPS\n",
        "from rdkit import Chem\n",
        "from rdkit.Chem import AllChem\n",
        "from rdkit.Chem import Draw\n",
        "from rdkit.Chem import PandasTools\n",
        "from rdkit.Chem.Draw import IPythonConsole\n",
        "from mol2vec.features import mol2alt_sentence, mol2sentence, MolSentence, DfVec, sentences2vec\n",
        "from gensim.models import word2vec\n",
        "import sys, os\n",
        "\n",
        "sys.path.append(os.path.dirname(os.path.dirname(os.getcwd()))+'/mol2vec')"
      ],
      "execution_count": 2,
      "outputs": []
    },
    {
      "cell_type": "code",
      "metadata": {
        "id": "bR295CDp4_I_",
        "colab_type": "code",
        "colab": {}
      },
      "source": [
        "# housing = fetch_california_housing()\n",
        "# housing_data = pd.DataFrame(housing.data, columns=housing.feature_names)\n",
        "# housing_target = pd.DataFrame(housing.target, columns=['housing_price'])\n",
        "\n",
        "# X = np.array(housing_data)\n",
        "# y = np.array(np.log(housing_target)).reshape(-1,)"
      ],
      "execution_count": 3,
      "outputs": []
    },
    {
      "cell_type": "code",
      "metadata": {
        "id": "ZlgMRQ6Sp0ks",
        "colab_type": "code",
        "colab": {
          "base_uri": "https://localhost:8080/",
          "height": 105
        },
        "outputId": "b86120c6-82ab-4bf7-b40d-8fdc1edcb3b5"
      },
      "source": [
        "df = pd.read_csv('/content/drive/My Drive/jacs.csv')\n",
        "PandasTools.AddMoleculeColumnToFrame(df, smilesCol='SMILES')\n",
        "\n",
        "model = word2vec.Word2Vec.load('/content/drive/My Drive/mol2vec_models/model_300dim.pkl')\n",
        "\n",
        "df['sentence'] = df.apply(lambda x: MolSentence(mol2alt_sentence(x['ROMol'], 1)), axis=1)\n",
        "df['mol2vec'] = [DfVec(x) for x in sentences2vec(df['sentence'], model, unseen='UNK')]\n",
        "\n",
        "X = np.array([x.vec for x in df['mol2vec']])\n",
        "y = np.array(df['measured log(solubility:mol/L)'])"
      ],
      "execution_count": 17,
      "outputs": [
        {
          "output_type": "stream",
          "text": [
            "/usr/local/lib/python3.6/dist-packages/smart_open/smart_open_lib.py:254: UserWarning:\n",
            "\n",
            "This function is deprecated, use smart_open.open instead. See the migration notes for details: https://github.com/RaRe-Technologies/smart_open/blob/master/README.rst#migrating-to-the-new-open-function\n",
            "\n"
          ],
          "name": "stderr"
        }
      ]
    },
    {
      "cell_type": "code",
      "metadata": {
        "id": "rqcyV-ewrTKB",
        "colab_type": "code",
        "colab": {
          "base_uri": "https://localhost:8080/",
          "height": 34
        },
        "outputId": "97818fb7-b186-4728-a108-a22639f9b515"
      },
      "source": [
        "X.shape"
      ],
      "execution_count": 18,
      "outputs": [
        {
          "output_type": "execute_result",
          "data": {
            "text/plain": [
              "(1144, 300)"
            ]
          },
          "metadata": {
            "tags": []
          },
          "execution_count": 18
        }
      ]
    },
    {
      "cell_type": "code",
      "metadata": {
        "id": "nUCF2fvw5Fzb",
        "colab_type": "code",
        "colab": {
          "base_uri": "https://localhost:8080/",
          "height": 51
        },
        "outputId": "13baf404-abc1-4a2e-e34e-10e4d77933b7"
      },
      "source": [
        "# x_train, x_drop, y_train, y_drop = train_test_split(X, y, train_size=10000, random_state=2, shuffle=True)\n",
        "# x_train, x_test, y_train, y_test = train_test_split(x_train, y_train, test_size=0.3, random_state=0, shuffle=True)\n",
        "\n",
        "x_train, x_test, y_train, y_test = train_test_split(X, y, test_size=0.3, random_state=0, shuffle=True)\n",
        "\n",
        "print(x_train.shape)\n",
        "print(x_test.shape)"
      ],
      "execution_count": 20,
      "outputs": [
        {
          "output_type": "stream",
          "text": [
            "(800, 300)\n",
            "(344, 300)\n"
          ],
          "name": "stdout"
        }
      ]
    },
    {
      "cell_type": "code",
      "metadata": {
        "id": "vGLwXAkHmmxV",
        "colab_type": "code",
        "colab": {}
      },
      "source": [
        "kernels = [ConstantKernel() * DotProduct() + WhiteKernel(),\n",
        "           ConstantKernel() * RBF() + WhiteKernel(),\n",
        "           ConstantKernel() * RBF() + WhiteKernel() + ConstantKernel() * DotProduct(),\n",
        "        #    ConstantKernel() * RBF(np.ones(x_train.shape[1])) + WhiteKernel(),\n",
        "        #    ConstantKernel() * RBF(np.ones(x_train.shape[1])) + WhiteKernel() + ConstantKernel() * DotProduct(),\n",
        "           ConstantKernel() * Matern(nu=1.5) + WhiteKernel(),\n",
        "           ConstantKernel() * Matern(nu=1.5) + WhiteKernel() + ConstantKernel() * DotProduct(),\n",
        "           ConstantKernel() * Matern(nu=0.5) + WhiteKernel(),\n",
        "           ConstantKernel() * Matern(nu=0.5) + WhiteKernel() + ConstantKernel() * DotProduct(),\n",
        "           ConstantKernel() * Matern(nu=2.5) + WhiteKernel(),\n",
        "           ConstantKernel() * Matern(nu=2.5) + WhiteKernel() + ConstantKernel() * DotProduct()]"
      ],
      "execution_count": 10,
      "outputs": []
    },
    {
      "cell_type": "code",
      "metadata": {
        "id": "bzFn9A7s5uIM",
        "colab_type": "code",
        "colab": {
          "base_uri": "https://localhost:8080/",
          "height": 289
        },
        "outputId": "18998e3d-b6c7-4d34-b685-60f9776fa237"
      },
      "source": [
        "cv_model = GridSearchCV(\n",
        "    Pipeline([\n",
        "              ('std', StandardScaler()),\n",
        "              ('gpr', GaussianProcessRegressor(alpha=0,normalize_y=True,random_state=0))\n",
        "              ]),\n",
        "               {'gpr__kernel': kernels}, cv=4, n_jobs=-1, verbose=3)\n",
        "cv_model.fit(x_train, y_train)\n",
        "print(cv_model.best_score_)\n",
        "optimal_kernel = cv_model.best_params_['gpr__kernel']\n",
        "gpr = Pipeline([\n",
        "                    ('std', StandardScaler()),\n",
        "                    ('gpr', GaussianProcessRegressor(optimal_kernel, alpha=0, normalize_y=True,random_state=0))\n",
        "                    ])\n",
        "\n",
        "gpr.fit(x_train, y_train)\n",
        "\n",
        "#kernel=1**2 * Matern(length_scale=1, nu=0.5) + WhiteKernel(noise_level=1),"
      ],
      "execution_count": 21,
      "outputs": [
        {
          "output_type": "stream",
          "text": [
            "Fitting 4 folds for each of 9 candidates, totalling 36 fits\n"
          ],
          "name": "stdout"
        },
        {
          "output_type": "stream",
          "text": [
            "[Parallel(n_jobs=-1)]: Using backend LokyBackend with 2 concurrent workers.\n",
            "[Parallel(n_jobs=-1)]: Done  28 tasks      | elapsed:  1.1min\n",
            "[Parallel(n_jobs=-1)]: Done  36 out of  36 | elapsed:  1.4min finished\n"
          ],
          "name": "stderr"
        },
        {
          "output_type": "stream",
          "text": [
            "0.884669891120968\n"
          ],
          "name": "stdout"
        },
        {
          "output_type": "execute_result",
          "data": {
            "text/plain": [
              "Pipeline(memory=None,\n",
              "         steps=[('std',\n",
              "                 StandardScaler(copy=True, with_mean=True, with_std=True)),\n",
              "                ('gpr',\n",
              "                 GaussianProcessRegressor(alpha=0, copy_X_train=True,\n",
              "                                          kernel=1**2 * Matern(length_scale=1, nu=1.5) + WhiteKernel(noise_level=1),\n",
              "                                          n_restarts_optimizer=0,\n",
              "                                          normalize_y=True,\n",
              "                                          optimizer='fmin_l_bfgs_b',\n",
              "                                          random_state=0))],\n",
              "         verbose=False)"
            ]
          },
          "metadata": {
            "tags": []
          },
          "execution_count": 21
        }
      ]
    },
    {
      "cell_type": "code",
      "metadata": {
        "id": "0tPonRgpz_-S",
        "colab_type": "code",
        "colab": {
          "base_uri": "https://localhost:8080/",
          "height": 85
        },
        "outputId": "d8469d56-79cc-4cc0-eeea-9d3cb663edc5"
      },
      "source": [
        "from sklearn.metrics import r2_score, mean_absolute_error\n",
        "r2 = r2_score(y_train, gpr.predict(x_train))\n",
        "print('Train R^2 :', r2)\n",
        "print('Train MAE :', mean_absolute_error(y_train, gpr.predict(x_train)))\n",
        "r2 = r2_score(y_test, gpr.predict(x_test))\n",
        "print('Test R^2 :', r2)\n",
        "print('Test MAE :', mean_absolute_error(y_test, gpr.predict(x_test)))"
      ],
      "execution_count": 22,
      "outputs": [
        {
          "output_type": "stream",
          "text": [
            "Train R^2 : 0.9881201572965651\n",
            "Train MAE : 0.15894346668726328\n",
            "Test R^2 : 0.8989006280520306\n",
            "Test MAE : 0.4855249191325929\n"
          ],
          "name": "stdout"
        }
      ]
    },
    {
      "cell_type": "code",
      "metadata": {
        "id": "Zo8re3SSAAPe",
        "colab_type": "code",
        "colab": {
          "base_uri": "https://localhost:8080/",
          "height": 279
        },
        "outputId": "85ea37af-e082-47a2-ec11-0a0d3f44750a"
      },
      "source": [
        "plt.scatter(y_train, gpr.predict(x_train), alpha = 0.4, c = 'blue')\n",
        "plt.scatter(y_test, gpr.predict(x_test), alpha = 0.4, c = 'red')\n",
        "#plt.plot([-2,2],[-2,2])\n",
        "plt.xlabel('Actual Y')\n",
        "plt.ylabel('Estimated Y in CV')\n",
        "plt.show()"
      ],
      "execution_count": 23,
      "outputs": [
        {
          "output_type": "display_data",
          "data": {
            "image/png": "[encoded data removed]",
            "text/plain": [
              "<Figure size 432x288 with 1 Axes>"
            ]
          },
          "metadata": {
            "tags": [],
            "needs_background": "light"
          }
        }
      ]
    },
    {
      "cell_type": "code",
      "metadata": {
        "id": "Cr-x-Owqwewm",
        "colab_type": "code",
        "colab": {}
      },
      "source": [
        "def objective(trial):\n",
        "    \n",
        "    criterion = trial.suggest_categorical('criterion', ['mse', 'friedman_mse'])\n",
        "    splitter = trial.suggest_categorical('splitter', ['best', 'random'])\n",
        "    max_depth = trial.suggest_int('max_depth', 3, 7)\n",
        "    min_s = trial.suggest_int('min_samples_leaf', 10, 35)\n",
        "    gamma = trial.suggest_loguniform('gamma', 1e-8, 10)\n",
        "\n",
        "    lr = trial.suggest_discrete_uniform('learning_rate', 0.01, 0.5, 0.01)\n",
        "    subsample = trial.suggest_discrete_uniform('minibatch_frac', 0.6, 0.95, 0.05)\n",
        "    col_sample = trial.suggest_discrete_uniform('col_sample', 0.05, 0.95, 0.05)\n",
        "    score = trial.suggest_categorical('Score', [MLE, CRPS])\n",
        "\n",
        "    #print(criterion, max_depth, lr, subsample, col_sample)\n",
        "\n",
        "    base_tree = DecisionTreeRegressor(\n",
        "        criterion=criterion,\n",
        "        splitter=splitter,\n",
        "        min_impurity_decrease=gamma,\n",
        "        max_depth=max_depth,\n",
        "        min_samples_leaf=min_s,\n",
        "        random_state=0\n",
        "        )\n",
        "    \n",
        "    model = NGBRegressor(\n",
        "        Base=base_tree,\n",
        "        Score=score,\n",
        "        n_estimators=500,\n",
        "        learning_rate=lr,\n",
        "        minibatch_frac=subsample,\n",
        "        col_sample=col_sample,\n",
        "        random_state=0\n",
        "    )\n",
        "    \n",
        "    score = cross_val_score(model, x_train, y_train, cv=4, scoring='r2', n_jobs=-1).mean()\n",
        "    #print(score)\n",
        "\n",
        "    return score\n",
        "\n",
        "study = optuna.create_study(direction='maximize', sampler=optuna.samplers.TPESampler(seed=1))\n",
        "study.optimize(objective, n_trials=100)"
      ],
      "execution_count": null,
      "outputs": []
    },
    {
      "cell_type": "code",
      "metadata": {
        "id": "U_gjc7G-4b7n",
        "colab_type": "code",
        "colab": {}
      },
      "source": [
        "23 finished with value: 0.7893595290006727 and parameters: \n",
        "{'criterion': 'friedman_mse', 'splitter': 'random', 'max_depth': 6, 'min_samples_leaf': 20, 'gamma': 7.683410767261797e-06, \n",
        "'learning_rate': 0.11, 'minibatch_frac': 0.9, 'col_sample': 0.8500000000000001, 'Score': <class 'ngboost.scores.CRPScore'>}.\n",
        "\n",
        "45 finished with value: 0.7897240003992678 and parameters: \n",
        "{'criterion': 'friedman_mse', 'splitter': 'random', 'max_depth': 7, 'min_samples_leaf': 21, 'gamma': 2.857667305819505e-05, \n",
        "'learning_rate': 0.11, 'minibatch_frac': 0.8, 'col_sample': 0.95, 'Score': <class 'ngboost.scores.CRPScore'>}.\n",
        "\n",
        "164 finished with value: 0.7949146298681133 and parameters: \n",
        "{'criterion': 'mse', 'splitter': 'random', 'max_depth': 7, 'min_samples_leaf': 20, 'gamma': 1.022741616307504e-08,\n",
        "'learning_rate': 0.060000000000000005, 'minibatch_frac': 0.85, 'col_sample': 0.9000000000000001, 'Score': <class 'ngboost.scores.CRPScore'>}. "
      ],
      "execution_count": null,
      "outputs": []
    },
    {
      "cell_type": "code",
      "metadata": {
        "id": "Hgag3bDD8jOi",
        "colab_type": "code",
        "colab": {}
      },
      "source": [
        "21 finished with value: 0.836514790164192 and parameters: \n",
        "{'criterion': 'friedman_mse', 'splitter': 'random', 'max_depth': 5, 'min_samples_leaf': 32, 'gamma': 1.7828858069534001e-07, \n",
        "'learning_rate': 0.09, 'minibatch_frac': 0.6, 'col_sample': 0.6500000000000001, 'Score': <class 'ngboost.scores.LogScore'>}.\n",
        "\n",
        "89 finished with value: 0.8380549310300426 and parameters: \n",
        "{'criterion': 'friedman_mse', 'splitter': 'random', 'max_depth': 7, 'min_samples_leaf': 32, 'gamma': 2.4499928693571205e-08, \n",
        "'learning_rate': 0.06999999999999999, 'minibatch_frac': 0.95, 'col_sample': 0.6000000000000001, 'Score': <class 'ngboost.scores.LogScore'>}."
      ],
      "execution_count": null,
      "outputs": []
    },
    {
      "cell_type": "code",
      "metadata": {
        "id": "2DzpXlJ0EAjp",
        "colab_type": "code",
        "colab": {
          "base_uri": "https://localhost:8080/",
          "height": 374
        },
        "outputId": "fff7dd5c-7c18-46f1-c01b-ef07b102b713"
      },
      "source": [
        "base_tree = DecisionTreeRegressor(\n",
        "    criterion='friedman_mse',\n",
        "    splitter='random',\n",
        "    max_depth=7,\n",
        "    min_samples_leaf=32,\n",
        "    min_impurity_decrease=2.4499928693571205e-08,\n",
        "    random_state=0\n",
        "    )\n",
        "\n",
        "ngbr = NGBRegressor(\n",
        "    Base=base_tree,\n",
        "    Score=MLE,\n",
        "    n_estimators=500,\n",
        "    learning_rate=0.07,\n",
        "    minibatch_frac=0.95,\n",
        "    col_sample=0.6,\n",
        "    random_state=0\n",
        ")\n",
        "\n",
        "#score = cross_val_score(model, x_train, y_train, cv=5, scoring='r2', n_jobs=-1).mean()\n",
        "ngbr.fit(x_train, y_train)"
      ],
      "execution_count": 25,
      "outputs": [
        {
          "output_type": "stream",
          "text": [
            "[iter 0] loss=2.1615 val_loss=0.0000 scale=1.0000 norm=1.7934\n",
            "[iter 100] loss=0.5504 val_loss=0.0000 scale=1.0000 norm=0.5955\n",
            "[iter 200] loss=0.0520 val_loss=0.0000 scale=0.5000 norm=0.2362\n",
            "[iter 300] loss=-0.1918 val_loss=0.0000 scale=0.5000 norm=0.2106\n",
            "[iter 400] loss=-0.3734 val_loss=0.0000 scale=0.5000 norm=0.1942\n"
          ],
          "name": "stdout"
        },
        {
          "output_type": "execute_result",
          "data": {
            "text/plain": [
              "NGBRegressor(Base=DecisionTreeRegressor(ccp_alpha=0.0, criterion='friedman_mse',\n",
              "                                        max_depth=7, max_features=None,\n",
              "                                        max_leaf_nodes=None,\n",
              "                                        min_impurity_decrease=2.4499928693571205e-08,\n",
              "                                        min_impurity_split=None,\n",
              "                                        min_samples_leaf=32,\n",
              "                                        min_samples_split=2,\n",
              "                                        min_weight_fraction_leaf=0.0,\n",
              "                                        presort='deprecated', random_state=0,\n",
              "                                        splitter='random'),\n",
              "             Dist=<class 'ngboost.distns.normal.Normal'>,\n",
              "             Score=<class 'ngboost.scores.LogScore'>, col_sample=0.6,\n",
              "             learning_rate=0.07, minibatch_frac=0.95, n_estimators=500,\n",
              "             natural_gradient=True,\n",
              "             random_state=RandomState(MT19937) at 0x7F64BB9E2990, tol=0.0001,\n",
              "             verbose=True, verbose_eval=100)"
            ]
          },
          "metadata": {
            "tags": []
          },
          "execution_count": 25
        }
      ]
    },
    {
      "cell_type": "code",
      "metadata": {
        "id": "bxBIqSyG0dnM",
        "colab_type": "code",
        "colab": {
          "base_uri": "https://localhost:8080/",
          "height": 85
        },
        "outputId": "65541bb8-9f57-4dd6-dbd1-35ba72d6dc6e"
      },
      "source": [
        "r2 = r2_score(y_train, ngbr.predict(x_train))\n",
        "print('Train R^2 :', r2)\n",
        "print('Train MAE :', mean_absolute_error(y_train, ngbr.predict(x_train)))\n",
        "r2 = r2_score(y_test, ngbr.predict(x_test))\n",
        "print('Test R^2 :', r2)\n",
        "print('Test MAE :', mean_absolute_error(y_test, ngbr.predict(x_test)))"
      ],
      "execution_count": 26,
      "outputs": [
        {
          "output_type": "stream",
          "text": [
            "Train R^2 : 0.9885021865729282\n",
            "Train MAE : 0.16633946973747485\n",
            "Test R^2 : 0.8499869288981445\n",
            "Test MAE : 0.613954009210392\n"
          ],
          "name": "stdout"
        }
      ]
    },
    {
      "cell_type": "code",
      "metadata": {
        "id": "In0d_vssyy1H",
        "colab_type": "code",
        "colab": {
          "base_uri": "https://localhost:8080/",
          "height": 279
        },
        "outputId": "53f3c8c8-c8cb-4191-b16e-cfca3f2a9ac9"
      },
      "source": [
        "plt.scatter(y_train, ngbr.predict(x_train), alpha = 0.4, c = 'blue')\n",
        "plt.scatter(y_test, ngbr.predict(x_test), alpha = 0.4, c = 'red')\n",
        "plt.plot([-2,2],[-2,2])\n",
        "plt.xlabel('Actual Y')\n",
        "plt.ylabel('Estimated Y in CV')\n",
        "plt.show()"
      ],
      "execution_count": 27,
      "outputs": [
        {
          "output_type": "display_data",
          "data": {
            "image/png": "[encoded data removed]",
            "text/plain": [
              "<Figure size 432x288 with 1 Axes>"
            ]
          },
          "metadata": {
            "tags": [],
            "needs_background": "light"
          }
        }
      ]
    },
    {
      "cell_type": "code",
      "metadata": {
        "id": "APoz1cDf0ruD",
        "colab_type": "code",
        "colab": {
          "base_uri": "https://localhost:8080/",
          "height": 85
        },
        "outputId": "4d2b517d-24f9-47fe-bc8d-01006f6a19a1"
      },
      "source": [
        "def avg_predict(data):\n",
        "    value = gpr.predict(data)+ngbr.predict(data)\n",
        "    return value/2\n",
        "\n",
        "r2 = r2_score(y_train, avg_predict(x_train))\n",
        "print('Train R^2 :', r2)\n",
        "print('Train MAE :', mean_absolute_error(y_train, avg_predict(x_train)))\n",
        "r2 = r2_score(y_test, avg_predict(x_test))\n",
        "print('Test R^2 :', r2)\n",
        "print('Test MAE :', mean_absolute_error(y_test, avg_predict(x_test)))"
      ],
      "execution_count": 28,
      "outputs": [
        {
          "output_type": "stream",
          "text": [
            "Train R^2 : 0.9895128617137363\n",
            "Train MAE : 0.15686334078963474\n",
            "Test R^2 : 0.8853058779104918\n",
            "Test MAE : 0.5305254347795864\n"
          ],
          "name": "stdout"
        }
      ]
    },
    {
      "cell_type": "code",
      "metadata": {
        "id": "EgoJT3Thy1VO",
        "colab_type": "code",
        "colab": {
          "base_uri": "https://localhost:8080/",
          "height": 279
        },
        "outputId": "8e3a1af7-5cbe-4d98-c801-137ed5c55ea1"
      },
      "source": [
        "plt.scatter(ngbr.predict(x_test), gpr.predict(x_test), alpha = 0.4, c = 'blue')\n",
        "plt.plot([-2,2],[-2,2])\n",
        "plt.xlabel('Actual Y')\n",
        "plt.ylabel('Estimated Y in CV')\n",
        "plt.show()"
      ],
      "execution_count": 21,
      "outputs": [
        {
          "output_type": "display_data",
          "data": {
            "image/png": "[encoded data removed]",
            "text/plain": [
              "<Figure size 432x288 with 1 Axes>"
            ]
          },
          "metadata": {
            "tags": [],
            "needs_background": "light"
          }
        }
      ]
    },
    {
      "cell_type": "code",
      "metadata": {
        "id": "dFu4anXMjB4h",
        "colab_type": "code",
        "colab": {
          "base_uri": "https://localhost:8080/",
          "height": 34
        },
        "outputId": "d61c5930-c267-4310-8e56-8f414580f666"
      },
      "source": [
        "pred_mu, pred_sigma = gpr.predict(x_test[2].reshape(1,-1), return_std=True)\n",
        "print(pred_mu, pred_sigma)"
      ],
      "execution_count": 25,
      "outputs": [
        {
          "output_type": "stream",
          "text": [
            "[1.00093346] [0.31860825]\n"
          ],
          "name": "stdout"
        }
      ]
    },
    {
      "cell_type": "code",
      "metadata": {
        "id": "oDItoPIijP-s",
        "colab_type": "code",
        "colab": {
          "base_uri": "https://localhost:8080/",
          "height": 34
        },
        "outputId": "379b1785-8e4c-4433-c497-8491cdf8a961"
      },
      "source": [
        "pred = ngbr.pred_dist(x_test[2].reshape(1,-1))\n",
        "pred.params"
      ],
      "execution_count": 26,
      "outputs": [
        {
          "output_type": "execute_result",
          "data": {
            "text/plain": [
              "{'loc': array([1.02929411]), 'scale': array([0.23208514])}"
            ]
          },
          "metadata": {
            "tags": []
          },
          "execution_count": 26
        }
      ]
    },
    {
      "cell_type": "code",
      "metadata": {
        "id": "G8AuhsMcqmvp",
        "colab_type": "code",
        "colab": {}
      },
      "source": [
        "x_axis = np.arange(0,1,0.01)\n",
        "ngy_axis = norm.pdf(x_axis,pred.params['loc'], pred.params['scale'])\n",
        "\n",
        "gpy_axis = norm.pdf(x_axis,pred_mu,pred_sigma)\n",
        "\n",
        "avy_axis = norm.pdf(x_axis,(pred_mu+pred.params['loc'])/2,(pred_sigma+pred.params['scale'])/2)"
      ],
      "execution_count": 27,
      "outputs": []
    },
    {
      "cell_type": "code",
      "metadata": {
        "id": "XAtNIoIFrtN2",
        "colab_type": "code",
        "colab": {
          "base_uri": "https://localhost:8080/",
          "height": 266
        },
        "outputId": "7cc3dd12-2686-4647-da9f-d7134166c32d"
      },
      "source": [
        "plt.plot(x_axis,ngy_axis,color='r')\n",
        "plt.plot(x_axis,gpy_axis,color='b')\n",
        "plt.plot(x_axis,avy_axis,color='g')\n",
        "plt.show()"
      ],
      "execution_count": 28,
      "outputs": [
        {
          "output_type": "display_data",
          "data": {
            "image/png": "[encoded data removed]",
            "text/plain": [
              "<Figure size 432x288 with 1 Axes>"
            ]
          },
          "metadata": {
            "tags": [],
            "needs_background": "light"
          }
        }
      ]
    },
    {
      "cell_type": "code",
      "metadata": {
        "id": "b0hr9KVE4J8A",
        "colab_type": "code",
        "colab": {}
      },
      "source": [
        ""
      ],
      "execution_count": null,
      "outputs": []
    }
  ]
}